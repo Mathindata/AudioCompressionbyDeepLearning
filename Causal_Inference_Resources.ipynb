{
  "nbformat": 4,
  "nbformat_minor": 0,
  "metadata": {
    "colab": {
      "name": "Causal Inference Resources.ipynb",
      "provenance": [],
      "authorship_tag": "ABX9TyNxXIbbf9tB32SCsPlOeHxk",
      "include_colab_link": true
    },
    "kernelspec": {
      "name": "python3",
      "display_name": "Python 3"
    }
  },
  "cells": [
    {
      "cell_type": "markdown",
      "metadata": {
        "id": "view-in-github",
        "colab_type": "text"
      },
      "source": [
        "<a href=\"https://colab.research.google.com/github/Mathindata/AudioCompressionbyDeepLearning/blob/master/Causal_Inference_Resources.ipynb\" target=\"_parent\"><img src=\"https://colab.research.google.com/assets/colab-badge.svg\" alt=\"Open In Colab\"/></a>"
      ]
    },
    {
      "cell_type": "markdown",
      "metadata": {
        "id": "PeGmrBvxgnub",
        "colab_type": "text"
      },
      "source": [
        "# Causal Inference tools"
      ]
    },
    {
      "cell_type": "markdown",
      "metadata": {
        "id": "IEqiMIpvpqmw",
        "colab_type": "text"
      },
      "source": [
        "## Tools and packages"
      ]
    },
    {
      "cell_type": "markdown",
      "metadata": {
        "id": "guYuj0TJgvPI",
        "colab_type": "text"
      },
      "source": [
        "* [ElementAI causal discovery](https://github.com/ElementAI/causal_discovery_toolbox)\n",
        "* [Causal Discovery Toolbox](https://github.com/FenTechSolutions/CausalDiscoveryToolbox)\n",
        "* [Causality](https://github.com/akelleh/causality)\n",
        "* [DoWhy](https://github.com/microsoft/dowhy)\n",
        "* [Counterfactual Regression](https://github.com/clinicalml/cfrnet)\n",
        "* [Causal Impact](https://github.com/google/CausalImpact)\n",
        "* [Probabilistic logic programs](https://dtai.cs.kuleuven.be/problog/index.html)\n",
        "* [IBM/causallib](https://github.com/IBM/causallib)\n",
        "* [Causal Reasoning with Bayesian Networks](https://github.com/quantumblacklabs/causalnex)\n",
        "* [Coarsened Exact Matching, Gary King](https://github.com/lewisbails/cem)\n",
        "* [Uber CausalML](https://github.com/uber/causalml)\n",
        "* [PyCausal](https://github.com/bd2kccd/py-causal)\n",
        "* [MatchIt](https://cran.r-project.org/web/packages/MatchIt/)\n"
      ]
    },
    {
      "cell_type": "markdown",
      "metadata": {
        "id": "AathN5wBC3Py",
        "colab_type": "text"
      },
      "source": [
        "## Courses and References"
      ]
    },
    {
      "cell_type": "markdown",
      "metadata": {
        "id": "SJykSCFvoABA",
        "colab_type": "text"
      },
      "source": [
        "* [Causality resources](https://github.com/napsternxg/awesome-causality)\n",
        "* [Coursera, A Crash Course in Causality: Inferring Causal Effects from Observational Data](https://www.coursera.org/learn/crash-course-in-causality/lecture/x4UMR/confusion-over-causality)\n",
        "* [A Survey on Causal Inference, paper](https://arxiv.org/pdf/2002.02770v1.pdf)\n",
        "* [Kedro, ML pipelines](https://github.com/quantumblacklabs/kedro)\n",
        "* [python causality handbook](https://github.com/matheusfacure/python-causality-handbook)\n",
        "* [An example by matching algorithm](https://github.com/usapkota/datascience_dev/blob/master/PSM/CatholicVSPublicSchool.ipynb)\n",
        "* [RL-Causality](https://github.com/debmandal/RL-Causality)\n",
        "* [ZaliQL](http://www.vldb.org/pvldb/vol10/p1957-salimi.pdf)\n",
        "* [Causal Reasoning: Fundamentals and Machine Learning Applications](https://causalinference.gitlab.io)\n",
        "* [PyCaret](https://pycaret.org)\n",
        "* [GP](https://blog.dominodatalab.com/fitting-gaussian-process-models-python/)\n",
        "* [Causal Inference Course](https://www.bradyneal.com/causal-inference-course)\n",
        "* [ Center for Causal Discovery (CCD)](https://www.ccd.pitt.edu/tools/)\n",
        "* [Graphical Model Basic](https://github.com/mynameisvinn/basilisk/blob/master/Example.ipynb)\n"
      ]
    },
    {
      "cell_type": "markdown",
      "metadata": {
        "id": "WnSI9JH4dgyZ",
        "colab_type": "text"
      },
      "source": [
        "# Causal Discovery"
      ]
    },
    {
      "cell_type": "markdown",
      "metadata": {
        "id": "bp0XuC6qdfTi",
        "colab_type": "text"
      },
      "source": [
        "* [Temporal Causal Discovery](https://github.com/M-Nauta/TCDF/blob/master/TCDF%20Demo.ipynb)\n",
        "* [Causal Discovery Toolbox](https://github.com/FenTechSolutions/CausalDiscoveryToolbox)\n",
        "* [Sparse Causal Graph Discovery Notears](https://github.com/xunzheng/notears)\n",
        "* [py-causal](https://github.com/xunzheng/py-causal)\n",
        "* [papers with code - causaldiscovery](https://paperswithcode.com/task/causal-discovery)"
      ]
    }
  ]
}